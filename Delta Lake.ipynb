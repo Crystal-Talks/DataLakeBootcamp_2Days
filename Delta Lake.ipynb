{
 "cells": [
  {
   "cell_type": "code",
   "execution_count": 0,
   "metadata": {
    "application/vnd.databricks.v1+cell": {
     "cellMetadata": {},
     "inputWidgets": {},
     "nuid": "fc3a06b9-ab5d-48bb-9f7c-9b57d1c8db72",
     "showTitle": false,
     "title": ""
    }
   },
   "outputs": [],
   "source": [
    "#Set the values to add Data Lake Gen2 Access Key to Spark config\n",
    "\n",
    "spark.conf.set(\n",
    "    \"fs.azure.account.key.***DataLakeName***.dfs.core.windows.net\",\n",
    "  \n",
    "    \"***Access Key***\")"
   ]
  },
  {
   "cell_type": "code",
   "execution_count": 0,
   "metadata": {
    "application/vnd.databricks.v1+cell": {
     "cellMetadata": {},
     "inputWidgets": {},
     "nuid": "febc2812-4b7b-4e79-a2dc-2532759ee141",
     "showTitle": false,
     "title": ""
    }
   },
   "outputs": [],
   "source": [
    "# Define input & output paths\n",
    "\n",
    "greenTaxisInputPath = \"abfss://***ContainerName***@***DataLakeName***.dfs.core.windows.net/Raw/\"\n",
    "\n",
    "greenTaxisOutputPath = \"abfss://***ContainerName***@***DataLakeName***.dfs.core.windows.net/Output/OReilly/\""
   ]
  },
  {
   "cell_type": "code",
   "execution_count": 0,
   "metadata": {
    "application/vnd.databricks.v1+cell": {
     "cellMetadata": {},
     "inputWidgets": {},
     "nuid": "76746ab1-cdd3-4fde-9f0f-af156a2c53f5",
     "showTitle": false,
     "title": ""
    }
   },
   "outputs": [],
   "source": [
    "# Create schema for Green Taxi Data\n",
    "\n",
    "from pyspark.sql.functions import *\n",
    "from pyspark.sql.types import *\n",
    "  \n",
    "greenTaxiSchema = (\n",
    "            StructType()               \n",
    "               .add(\"VendorId\", \"integer\")\n",
    "               .add(\"lpep_pickup_datetime\", \"timestamp\")\n",
    "               .add(\"lpep_dropoff_datetime\", \"timestamp\")\n",
    "               .add(\"store_and_fwd_flag\", \"string\")\n",
    "               .add(\"RatecodeID\", \"integer\")\n",
    "               .add(\"PULocationID\", \"integer\")\n",
    "               .add(\"DOLocationID\", \"integer\")\n",
    "  \n",
    "              .add(\"passenger_count\", \"integer\")\n",
    "              .add(\"trip_distance\", \"double\")\n",
    "              .add(\"fare_amount\", \"double\")\n",
    "              .add(\"extra\", \"double\")\n",
    "              .add(\"mta_tax\", \"double\")\n",
    "              .add(\"tip_amount\", \"double\")\n",
    "  \n",
    "              .add(\"tolls_amount\", \"double\")\n",
    "              .add(\"ehail_fee\", \"double\")\n",
    "              .add(\"improvement_surcharge\", \"double\")\n",
    "              .add(\"total_amount\", \"double\")\n",
    "              .add(\"payment_type\", \"integer\")\n",
    "              .add(\"trip_type\", \"integer\")\n",
    "         )"
   ]
  },
  {
   "cell_type": "code",
   "execution_count": 0,
   "metadata": {
    "application/vnd.databricks.v1+cell": {
     "cellMetadata": {},
     "inputWidgets": {},
     "nuid": "053cbad9-338a-4328-b1f9-3d31c48c26e6",
     "showTitle": false,
     "title": ""
    }
   },
   "outputs": [],
   "source": [
    "# Read csv file\n",
    "greenTaxiDF = (\n",
    "                  spark\n",
    "                    .read                     \n",
    "                    .option(\"header\", \"true\")\n",
    "                    .schema(greenTaxiSchema)\n",
    "                    .csv(greenTaxisInputPath + \"GreenTaxis_201911.csv\")\n",
    "              )\n",
    "\n",
    "display(greenTaxiDF)"
   ]
  },
  {
   "cell_type": "markdown",
   "metadata": {
    "application/vnd.databricks.v1+cell": {
     "cellMetadata": {},
     "inputWidgets": {},
     "nuid": "3148bc62-16d7-4304-9bb1-055145f6abf7",
     "showTitle": false,
     "title": ""
    }
   },
   "source": [
    "### Save DataFrame in Parquet and Delta formats"
   ]
  },
  {
   "cell_type": "code",
   "execution_count": 0,
   "metadata": {
    "application/vnd.databricks.v1+cell": {
     "cellMetadata": {},
     "inputWidgets": {},
     "nuid": "7354ae18-840b-439f-98e9-b10537defab1",
     "showTitle": false,
     "title": ""
    }
   },
   "outputs": [],
   "source": [
    "# Write in parquet format\n",
    "(\n",
    "    greenTaxiDF\n",
    "        .write\n",
    "        .mode(\"overwrite\")        \n",
    "  \n",
    "        .partitionBy(\"VendorId\")\n",
    "  \n",
    "        .format(\"parquet\")\n",
    "  \n",
    "        .save(greenTaxisOutputPath + \"GreenTaxis.parquet\")\n",
    ")"
   ]
  },
  {
   "cell_type": "code",
   "execution_count": 0,
   "metadata": {
    "application/vnd.databricks.v1+cell": {
     "cellMetadata": {},
     "inputWidgets": {},
     "nuid": "5b8c5d7e-680e-4ae0-b7ee-5bd75fd790f1",
     "showTitle": false,
     "title": ""
    }
   },
   "outputs": [],
   "source": [
    "# Write in delta format\n",
    "(\n",
    "    greenTaxiDF\n",
    "        .write\n",
    "        .mode(\"overwrite\")        \n",
    "  \n",
    "        .partitionBy(\"VendorId\")\n",
    "  \n",
    "        .format(\"delta\")\n",
    "  \n",
    "        .save(greenTaxisOutputPath + \"GreenTaxis.delta\")\n",
    ")"
   ]
  },
  {
   "cell_type": "markdown",
   "metadata": {
    "application/vnd.databricks.v1+cell": {
     "cellMetadata": {},
     "inputWidgets": {},
     "nuid": "a18278de-38d4-4df7-a666-1f9d3a2fd4f9",
     "showTitle": false,
     "title": ""
    }
   },
   "source": [
    "#####Check output folder to see differences between parquet & delta outputs\n",
    "  - Do you see _delta_log folder in delta directory?"
   ]
  },
  {
   "cell_type": "markdown",
   "metadata": {
    "application/vnd.databricks.v1+cell": {
     "cellMetadata": {},
     "inputWidgets": {},
     "nuid": "b6cc83ca-0bc4-4a5d-a2f8-5a54c6fd9357",
     "showTitle": false,
     "title": ""
    }
   },
   "source": [
    "### Create Parquet Table"
   ]
  },
  {
   "cell_type": "code",
   "execution_count": 0,
   "metadata": {
    "application/vnd.databricks.v1+cell": {
     "cellMetadata": {
      "implicitDf": true
     },
     "inputWidgets": {},
     "nuid": "f48532f1-2f0d-458d-b07c-b1e5cbea8e2e",
     "showTitle": false,
     "title": ""
    }
   },
   "outputs": [],
   "source": [
    "%sql\n",
    "-- Drop tables if they exist\n",
    "DROP TABLE IF EXISTS TaxiDB.GreenTaxisParquet;\n",
    "DROP TABLE IF EXISTS TaxiDB.GreenTaxis;"
   ]
  },
  {
   "cell_type": "code",
   "execution_count": 0,
   "metadata": {
    "application/vnd.databricks.v1+cell": {
     "cellMetadata": {
      "implicitDf": true
     },
     "inputWidgets": {},
     "nuid": "54f226f8-2ae6-40af-b07f-9f225f8f5dc5",
     "showTitle": false,
     "title": ""
    }
   },
   "outputs": [],
   "source": [
    "%sql\n",
    "\n",
    "DROP DATABASE IF EXISTS TaxiDB;\n",
    "\n",
    "CREATE DATABASE TaxiDB;"
   ]
  },
  {
   "cell_type": "code",
   "execution_count": 0,
   "metadata": {
    "application/vnd.databricks.v1+cell": {
     "cellMetadata": {
      "implicitDf": true
     },
     "inputWidgets": {},
     "nuid": "18c3e5de-f70a-4acf-aaa5-8314dad70d09",
     "showTitle": false,
     "title": ""
    }
   },
   "outputs": [],
   "source": [
    "filepath = greenTaxisOutputPath + \"GreenTaxis.parquet\"\n",
    "\n",
    "spark.sql(f\"\"\"\n",
    "\n",
    "    CREATE TABLE TaxiDB.GreenTaxisParquet\n",
    "      USING PARQUET\n",
    "      OPTIONS (path = '{filepath}')\n",
    "      \n",
    "\"\"\")"
   ]
  },
  {
   "cell_type": "code",
   "execution_count": 0,
   "metadata": {
    "application/vnd.databricks.v1+cell": {
     "cellMetadata": {},
     "inputWidgets": {},
     "nuid": "8418c469-11d3-4142-9a7a-93cad191916b",
     "showTitle": false,
     "title": ""
    }
   },
   "outputs": [],
   "source": [
    "filepath = greenTaxisOutputPath + \"GreenTaxis.delta\"\n",
    "\n",
    "spark.sql(f\"\"\"\n",
    "\n",
    "    CREATE TABLE TaxiDB.GreenTaxis\n",
    "      USING DELTA\n",
    "      OPTIONS (path = '{filepath}')\n",
    "      \n",
    "\"\"\")"
   ]
  },
  {
   "cell_type": "markdown",
   "metadata": {
    "application/vnd.databricks.v1+cell": {
     "cellMetadata": {},
     "inputWidgets": {},
     "nuid": "e6294b8b-58c7-4cfe-9c69-a4827f957863",
     "showTitle": false,
     "title": ""
    }
   },
   "source": [
    "#####From left pane, navigate to Data tab and verify the tables"
   ]
  },
  {
   "cell_type": "code",
   "execution_count": 0,
   "metadata": {
    "application/vnd.databricks.v1+cell": {
     "cellMetadata": {
      "implicitDf": true
     },
     "inputWidgets": {},
     "nuid": "41eca436-afc5-4ebf-ade4-fad7b98623ef",
     "showTitle": false,
     "title": ""
    }
   },
   "outputs": [],
   "source": [
    "%sql\n",
    "SELECT COUNT(*) FROM TaxiDB.GreenTaxis"
   ]
  },
  {
   "cell_type": "markdown",
   "metadata": {
    "application/vnd.databricks.v1+cell": {
     "cellMetadata": {},
     "inputWidgets": {},
     "nuid": "e9f04413-32c0-4aba-aa54-bb0a64ecc029",
     "showTitle": false,
     "title": ""
    }
   },
   "source": [
    "### Check Audit History of Delta Table"
   ]
  },
  {
   "cell_type": "code",
   "execution_count": 0,
   "metadata": {
    "application/vnd.databricks.v1+cell": {
     "cellMetadata": {
      "implicitDf": true
     },
     "inputWidgets": {},
     "nuid": "81b9938b-da64-4cd1-a48c-f5e1fd83987a",
     "showTitle": false,
     "title": ""
    }
   },
   "outputs": [],
   "source": [
    "%sql\n",
    "\n",
    "DESCRIBE HISTORY TaxiDB.GreenTaxis"
   ]
  },
  {
   "cell_type": "markdown",
   "metadata": {
    "application/vnd.databricks.v1+cell": {
     "cellMetadata": {},
     "inputWidgets": {},
     "nuid": "41f14011-b852-4d4b-a7ca-32a69d9a4eb7",
     "showTitle": false,
     "title": ""
    }
   },
   "source": [
    "### Overwrite Parquet folder"
   ]
  },
  {
   "cell_type": "code",
   "execution_count": 0,
   "metadata": {
    "application/vnd.databricks.v1+cell": {
     "cellMetadata": {},
     "inputWidgets": {},
     "nuid": "99ce69fa-a39e-4195-94f8-15a8f0b4c331",
     "showTitle": false,
     "title": ""
    }
   },
   "outputs": [],
   "source": [
    "# Overwrite data in parquet format\n",
    "(\n",
    "    greenTaxiDF\n",
    "        .write\n",
    "        .mode(\"overwrite\")        \n",
    "  \n",
    "        .partitionBy(\"VendorId\")\n",
    "  \n",
    "        .format(\"parquet\")\n",
    "  \n",
    "        .save(greenTaxisOutputPath + \"GreenTaxis.parquet\")\n",
    ")"
   ]
  },
  {
   "cell_type": "markdown",
   "metadata": {
    "application/vnd.databricks.v1+cell": {
     "cellMetadata": {},
     "inputWidgets": {},
     "nuid": "a7916a6b-64c4-4046-b574-a4335c4bf026",
     "showTitle": false,
     "title": ""
    }
   },
   "source": [
    "### Overwrite Delta folder"
   ]
  },
  {
   "cell_type": "code",
   "execution_count": 0,
   "metadata": {
    "application/vnd.databricks.v1+cell": {
     "cellMetadata": {},
     "inputWidgets": {},
     "nuid": "6dee911f-4ca3-4b4a-8cee-c3e64ff67c69",
     "showTitle": false,
     "title": ""
    }
   },
   "outputs": [],
   "source": [
    "# Overwrite data in delta format\n",
    "(\n",
    "    greenTaxiDF\n",
    "        .write\n",
    "        .mode(\"overwrite\")        \n",
    "  \n",
    "        .partitionBy(\"VendorId\")\n",
    "  \n",
    "        .format(\"delta\")\n",
    "  \n",
    "        .save(greenTaxisOutputPath + \"GreenTaxis.delta\")\n",
    ")"
   ]
  },
  {
   "cell_type": "code",
   "execution_count": 0,
   "metadata": {
    "application/vnd.databricks.v1+cell": {
     "cellMetadata": {
      "implicitDf": true
     },
     "inputWidgets": {},
     "nuid": "737d3bc4-226d-4251-9e42-172b905420a0",
     "showTitle": false,
     "title": ""
    }
   },
   "outputs": [],
   "source": [
    "%sql\n",
    "SELECT COUNT(*) FROM TaxiDB.GreenTaxis"
   ]
  },
  {
   "cell_type": "code",
   "execution_count": 0,
   "metadata": {
    "application/vnd.databricks.v1+cell": {
     "cellMetadata": {
      "implicitDf": true
     },
     "inputWidgets": {},
     "nuid": "08bf9ab0-3f7c-43d1-9319-e36dcd75fe10",
     "showTitle": false,
     "title": ""
    }
   },
   "outputs": [],
   "source": [
    "%sql\n",
    "\n",
    "DESCRIBE HISTORY TaxiDB.GreenTaxis"
   ]
  },
  {
   "cell_type": "markdown",
   "metadata": {
    "application/vnd.databricks.v1+cell": {
     "cellMetadata": {},
     "inputWidgets": {},
     "nuid": "02bf30a7-d14f-4264-bcf0-58640585a6cf",
     "showTitle": false,
     "title": ""
    }
   },
   "source": [
    "#####Notice number of records have not changed (they are overwritten), but log maintains the overwrite operation"
   ]
  },
  {
   "cell_type": "markdown",
   "metadata": {
    "application/vnd.databricks.v1+cell": {
     "cellMetadata": {},
     "inputWidgets": {},
     "nuid": "42bc90c7-3be5-4a40-965a-6278739c76e7",
     "showTitle": false,
     "title": ""
    }
   },
   "source": [
    "### Schema Enforcement"
   ]
  },
  {
   "cell_type": "code",
   "execution_count": 0,
   "metadata": {
    "application/vnd.databricks.v1+cell": {
     "cellMetadata": {
      "implicitDf": true
     },
     "inputWidgets": {},
     "nuid": "7a2d4a6d-6efc-4f84-a774-ea9bd469e410",
     "showTitle": false,
     "title": ""
    }
   },
   "outputs": [],
   "source": [
    "%sql\n",
    "\n",
    "-- Schema enforcement\n",
    "INSERT INTO TaxiDB.GreenTaxis\n",
    "(VendorId, lpep_pickup_datetime, lpep_dropoff_datetime, store_and_fwd_flag, RatecodeID, PULocationID, DOLocationID, passenger_count, trip_distance, fare_amount, extra, mta_tax, tip_amount, tolls_amount, ehail_fee, improvement_surcharge, total_amount, payment_type, trip_type)\n",
    "\n",
    "-- VendorId should be integer, adding it as string\n",
    "VALUES ('JUNK', '2019-12-01T00:00:00.000Z', '2019-12-01T00:15:34.000Z', 'N', 1, 145, 148, 1, 2.9, 100.0, 15.3, 13.0, 0.5, 0.5, 1.0, 0.0, 140.0, 1, 1)"
   ]
  },
  {
   "cell_type": "markdown",
   "metadata": {
    "application/vnd.databricks.v1+cell": {
     "cellMetadata": {},
     "inputWidgets": {},
     "nuid": "edd3b91d-3173-4a97-b491-7ee8c9b62237",
     "showTitle": false,
     "title": ""
    }
   },
   "source": [
    "#####Previous command will fail since it does not match the schema"
   ]
  },
  {
   "cell_type": "markdown",
   "metadata": {
    "application/vnd.databricks.v1+cell": {
     "cellMetadata": {},
     "inputWidgets": {},
     "nuid": "29dcfd40-0764-48a3-97ec-998c093056d3",
     "showTitle": false,
     "title": ""
    }
   },
   "source": [
    "### Insert Data to Delta Table: Insert Command"
   ]
  },
  {
   "cell_type": "code",
   "execution_count": 0,
   "metadata": {
    "application/vnd.databricks.v1+cell": {
     "cellMetadata": {
      "implicitDf": true
     },
     "inputWidgets": {},
     "nuid": "59366f32-0056-465f-bb71-ce02bf37abe2",
     "showTitle": false,
     "title": ""
    }
   },
   "outputs": [],
   "source": [
    "%sql\n",
    "\n",
    "INSERT INTO TaxiDB.GreenTaxis\n",
    "(VendorId, lpep_pickup_datetime, lpep_dropoff_datetime, store_and_fwd_flag, RatecodeID, PULocationID, DOLocationID, passenger_count, trip_distance, fare_amount, extra, mta_tax, tip_amount, tolls_amount, ehail_fee, improvement_surcharge, total_amount, payment_type, trip_type)\n",
    "\n",
    "VALUES (4, '2019-12-01T00:00:00.000Z', '2019-12-01T00:15:34.000Z', 'N', 1, 145, 148, 1, 2.9, 100.0, 15.3, 13.0, 0.5, 0.5, 1.0, 0.0, 140.0, 1, 1)"
   ]
  },
  {
   "cell_type": "code",
   "execution_count": 0,
   "metadata": {
    "application/vnd.databricks.v1+cell": {
     "cellMetadata": {
      "implicitDf": true
     },
     "inputWidgets": {},
     "nuid": "fc072959-aa56-4ee8-9552-de8c257c5076",
     "showTitle": false,
     "title": ""
    }
   },
   "outputs": [],
   "source": [
    "%sql\n",
    "\n",
    "SELECT *\n",
    "FROM TaxiDB.GreenTaxis\n",
    "WHERE VendorId = 4"
   ]
  },
  {
   "cell_type": "code",
   "execution_count": 0,
   "metadata": {
    "application/vnd.databricks.v1+cell": {
     "cellMetadata": {
      "implicitDf": true
     },
     "inputWidgets": {},
     "nuid": "0ae04a98-9372-413b-a7ee-34aae3cdd3ce",
     "showTitle": false,
     "title": ""
    }
   },
   "outputs": [],
   "source": [
    "%sql\n",
    "\n",
    "DESCRIBE HISTORY TaxiDB.GreenTaxis"
   ]
  },
  {
   "cell_type": "markdown",
   "metadata": {
    "application/vnd.databricks.v1+cell": {
     "cellMetadata": {},
     "inputWidgets": {},
     "nuid": "e57845d3-7e42-4fc0-8d59-69bccd71c8ee",
     "showTitle": false,
     "title": ""
    }
   },
   "source": [
    "### Insert Data to Delta Table: Append DataFrame"
   ]
  },
  {
   "cell_type": "code",
   "execution_count": 0,
   "metadata": {
    "application/vnd.databricks.v1+cell": {
     "cellMetadata": {},
     "inputWidgets": {},
     "nuid": "9543c8bc-b7b6-47db-ab07-236fc10507e0",
     "showTitle": false,
     "title": ""
    }
   },
   "outputs": [],
   "source": [
    "# Extract new records from Data Lake\n",
    "# Read csv file to append - this file only has one record for VendorId 3\n",
    "\n",
    "greenTaxiAppendDF = (\n",
    "                        spark\n",
    "                          .read                     \n",
    "                          .option(\"header\", \"true\")\n",
    "                          .schema(greenTaxiSchema)\n",
    "                          .csv(greenTaxisInputPath + \"GreenTaxis_201911_append.csv\")\n",
    "                    )\n",
    "\n",
    "display(greenTaxiAppendDF)"
   ]
  },
  {
   "cell_type": "code",
   "execution_count": 0,
   "metadata": {
    "application/vnd.databricks.v1+cell": {
     "cellMetadata": {
      "implicitDf": true
     },
     "inputWidgets": {},
     "nuid": "ba501279-e4e6-4834-805a-471d7902b755",
     "showTitle": false,
     "title": ""
    }
   },
   "outputs": [],
   "source": [
    "%sql\n",
    "\n",
    "SELECT COUNT(*) FROM TaxiDB.GreenTaxis"
   ]
  },
  {
   "cell_type": "code",
   "execution_count": 0,
   "metadata": {
    "application/vnd.databricks.v1+cell": {
     "cellMetadata": {},
     "inputWidgets": {},
     "nuid": "e675411d-a530-45cb-8801-7c3396af6124",
     "showTitle": false,
     "title": ""
    }
   },
   "outputs": [],
   "source": [
    "# Append to Delta table\n",
    "(\n",
    "    greenTaxiAppendDF\n",
    "        .write\n",
    "        .mode(\"append\")        \n",
    "  \n",
    "        .partitionBy(\"VendorId\")\n",
    "  \n",
    "        .format(\"delta\")\n",
    "  \n",
    "        .save(greenTaxisOutputPath + \"GreenTaxis.delta\")\n",
    ")"
   ]
  },
  {
   "cell_type": "code",
   "execution_count": 0,
   "metadata": {
    "application/vnd.databricks.v1+cell": {
     "cellMetadata": {
      "implicitDf": true
     },
     "inputWidgets": {},
     "nuid": "22a91d7b-88f3-445d-95e2-9ae46e39e821",
     "showTitle": false,
     "title": ""
    }
   },
   "outputs": [],
   "source": [
    "%sql\n",
    "\n",
    "SELECT COUNT(*) FROM TaxiDB.GreenTaxis"
   ]
  },
  {
   "cell_type": "code",
   "execution_count": 0,
   "metadata": {
    "application/vnd.databricks.v1+cell": {
     "cellMetadata": {
      "implicitDf": true
     },
     "inputWidgets": {},
     "nuid": "c8f88d5b-6033-4147-b05c-a689d6a2e6f6",
     "showTitle": false,
     "title": ""
    }
   },
   "outputs": [],
   "source": [
    "%sql\n",
    "\n",
    "DESCRIBE HISTORY TaxiDB.GreenTaxis"
   ]
  },
  {
   "cell_type": "markdown",
   "metadata": {
    "application/vnd.databricks.v1+cell": {
     "cellMetadata": {},
     "inputWidgets": {},
     "nuid": "89ee547a-2dd7-49fe-a99b-9fc96ea0e0b7",
     "showTitle": false,
     "title": ""
    }
   },
   "source": [
    "### Update Data in Delta Table"
   ]
  },
  {
   "cell_type": "code",
   "execution_count": 0,
   "metadata": {
    "application/vnd.databricks.v1+cell": {
     "cellMetadata": {
      "implicitDf": true
     },
     "inputWidgets": {},
     "nuid": "d517c5f7-c6da-43ff-a331-0e2d326ad823",
     "showTitle": false,
     "title": ""
    }
   },
   "outputs": [],
   "source": [
    "%sql\n",
    "\n",
    "SELECT RateCodeID\n",
    "FROM TaxiDB.GreenTaxis\n",
    "WHERE VendorId = 4"
   ]
  },
  {
   "cell_type": "code",
   "execution_count": 0,
   "metadata": {
    "application/vnd.databricks.v1+cell": {
     "cellMetadata": {
      "implicitDf": true
     },
     "inputWidgets": {},
     "nuid": "001a5727-a191-4db9-a45d-bd3d9499224b",
     "showTitle": false,
     "title": ""
    }
   },
   "outputs": [],
   "source": [
    "%sql\n",
    "\n",
    "UPDATE TaxiDB.GreenTaxis\n",
    "\n",
    "SET RateCodeID = 2\n",
    "\n",
    "WHERE VendorId = 4"
   ]
  },
  {
   "cell_type": "code",
   "execution_count": 0,
   "metadata": {
    "application/vnd.databricks.v1+cell": {
     "cellMetadata": {
      "implicitDf": true
     },
     "inputWidgets": {},
     "nuid": "8a5e3019-d45d-44ba-91b0-e662a8ae187d",
     "showTitle": false,
     "title": ""
    }
   },
   "outputs": [],
   "source": [
    "%sql\n",
    "\n",
    "SELECT RateCodeID\n",
    "FROM TaxiDB.GreenTaxis\n",
    "WHERE VendorId = 4"
   ]
  },
  {
   "cell_type": "code",
   "execution_count": 0,
   "metadata": {
    "application/vnd.databricks.v1+cell": {
     "cellMetadata": {
      "implicitDf": true
     },
     "inputWidgets": {},
     "nuid": "493975c2-53c8-4363-abd4-3243612723cb",
     "showTitle": false,
     "title": ""
    }
   },
   "outputs": [],
   "source": [
    "%sql\n",
    "\n",
    "DESCRIBE HISTORY TaxiDB.GreenTaxis"
   ]
  },
  {
   "cell_type": "markdown",
   "metadata": {
    "application/vnd.databricks.v1+cell": {
     "cellMetadata": {},
     "inputWidgets": {},
     "nuid": "d86f39e2-ec63-4ff5-89b9-ffd8de496be8",
     "showTitle": false,
     "title": ""
    }
   },
   "source": [
    "#####Check how update operation has removed and added a new file in delta transaction log"
   ]
  },
  {
   "cell_type": "markdown",
   "metadata": {
    "application/vnd.databricks.v1+cell": {
     "cellMetadata": {},
     "inputWidgets": {},
     "nuid": "6571a4fe-fc7f-4bc2-98f9-b8ed08e6c560",
     "showTitle": false,
     "title": ""
    }
   },
   "source": [
    "### Merge Data to Delta Table"
   ]
  },
  {
   "cell_type": "code",
   "execution_count": 0,
   "metadata": {
    "application/vnd.databricks.v1+cell": {
     "cellMetadata": {
      "implicitDf": true
     },
     "inputWidgets": {},
     "nuid": "2c9e8c8c-5c0a-4097-bb2b-565091db062b",
     "showTitle": false,
     "title": ""
    }
   },
   "outputs": [],
   "source": [
    "%sql\n",
    "\n",
    "SELECT store_and_fwd_flag\n",
    "FROM TaxiDB.GreenTaxis\n",
    "WHERE VendorId = 3"
   ]
  },
  {
   "cell_type": "code",
   "execution_count": 0,
   "metadata": {
    "application/vnd.databricks.v1+cell": {
     "cellMetadata": {},
     "inputWidgets": {},
     "nuid": "98446e92-f141-4399-abb8-97c4d5588ae0",
     "showTitle": false,
     "title": ""
    }
   },
   "outputs": [],
   "source": [
    "# Extract new records from Data Lake\n",
    "# Read csv file to append - this file only has one record for VendorId 3\n",
    "\n",
    "greenTaxiChangesDF = (\n",
    "                        spark\n",
    "                          .read                     \n",
    "                          .option(\"header\", \"true\")\n",
    "                          .schema(greenTaxiSchema)\n",
    "                          .csv(greenTaxisInputPath + \"GreenTaxis_201911_changes.csv\")\n",
    "                    )\n",
    "\n",
    "display(greenTaxiChangesDF)"
   ]
  },
  {
   "cell_type": "code",
   "execution_count": 0,
   "metadata": {
    "application/vnd.databricks.v1+cell": {
     "cellMetadata": {},
     "inputWidgets": {},
     "nuid": "90192b67-b3d9-417c-991e-676a73ac6b8d",
     "showTitle": false,
     "title": ""
    }
   },
   "outputs": [],
   "source": [
    "# Create a temporary view on top of DataFrame\n",
    "\n",
    "greenTaxiChangesDF.createOrReplaceTempView(\"GreenTaxiChanges\")"
   ]
  },
  {
   "cell_type": "code",
   "execution_count": 0,
   "metadata": {
    "application/vnd.databricks.v1+cell": {
     "cellMetadata": {
      "implicitDf": true
     },
     "inputWidgets": {},
     "nuid": "0b4d3063-cce1-4161-8375-ba77f2fe667d",
     "showTitle": false,
     "title": ""
    }
   },
   "outputs": [],
   "source": [
    "%sql\n",
    "SELECT * FROM GreenTaxiChanges"
   ]
  },
  {
   "cell_type": "code",
   "execution_count": 0,
   "metadata": {
    "application/vnd.databricks.v1+cell": {
     "cellMetadata": {
      "implicitDf": true
     },
     "inputWidgets": {},
     "nuid": "b2bd41ad-bb47-448b-9296-592f618a8908",
     "showTitle": false,
     "title": ""
    }
   },
   "outputs": [],
   "source": [
    "%sql\n",
    "\n",
    "MERGE INTO TaxiDB.GreenTaxis AS target\n",
    "\n",
    "  USING GreenTaxiChanges     AS source\n",
    "  \n",
    "ON target.VendorID = source.VendorId\n",
    "  AND target.lpep_pickup_datetime = source.lpep_pickup_datetime\n",
    "  AND target.PULocationID = source.PULocationID\n",
    "  AND target.DOLocationID = source.DOLocationID\n",
    "  \n",
    "WHEN MATCHED THEN\n",
    "  UPDATE SET\n",
    "    target.store_and_fwd_flag = source.store_and_fwd_flag\n",
    "    \n",
    "WHEN NOT MATCHED\n",
    "  THEN INSERT *"
   ]
  },
  {
   "cell_type": "code",
   "execution_count": 0,
   "metadata": {
    "application/vnd.databricks.v1+cell": {
     "cellMetadata": {
      "implicitDf": true
     },
     "inputWidgets": {},
     "nuid": "c40ccc9b-1819-4d54-b0a7-5a2b28521629",
     "showTitle": false,
     "title": ""
    }
   },
   "outputs": [],
   "source": [
    "%sql\n",
    "\n",
    "SELECT store_and_fwd_flag\n",
    "FROM TaxiDB.GreenTaxis\n",
    "WHERE VendorId = 3"
   ]
  },
  {
   "cell_type": "code",
   "execution_count": 0,
   "metadata": {
    "application/vnd.databricks.v1+cell": {
     "cellMetadata": {
      "implicitDf": true
     },
     "inputWidgets": {},
     "nuid": "ae3a0458-57ec-4268-99ba-9ab561c9911e",
     "showTitle": false,
     "title": ""
    }
   },
   "outputs": [],
   "source": [
    "%sql\n",
    "\n",
    "DESCRIBE HISTORY TaxiDB.GreenTaxis"
   ]
  },
  {
   "cell_type": "markdown",
   "metadata": {
    "application/vnd.databricks.v1+cell": {
     "cellMetadata": {},
     "inputWidgets": {},
     "nuid": "a3eb31a0-23d0-4905-9137-dd0fee7b053e",
     "showTitle": false,
     "title": ""
    }
   },
   "source": [
    "### Time Travel in Delta Lake"
   ]
  },
  {
   "cell_type": "code",
   "execution_count": 0,
   "metadata": {
    "application/vnd.databricks.v1+cell": {
     "cellMetadata": {
      "implicitDf": true
     },
     "inputWidgets": {},
     "nuid": "eb2bda8f-7b11-4751-9435-446d4d06fe52",
     "showTitle": false,
     "title": ""
    }
   },
   "outputs": [],
   "source": [
    "%sql\n",
    "\n",
    "SELECT store_and_fwd_flag\n",
    "FROM TaxiDB.GreenTaxis\n",
    "WHERE VendorId = 3"
   ]
  },
  {
   "cell_type": "code",
   "execution_count": 0,
   "metadata": {
    "application/vnd.databricks.v1+cell": {
     "cellMetadata": {
      "implicitDf": true
     },
     "inputWidgets": {},
     "nuid": "26ebb375-efab-43f8-9641-661811566d1a",
     "showTitle": false,
     "title": ""
    }
   },
   "outputs": [],
   "source": [
    "%sql\n",
    "\n",
    "DESCRIBE HISTORY TaxiDB.GreenTaxis"
   ]
  },
  {
   "cell_type": "code",
   "execution_count": 0,
   "metadata": {
    "application/vnd.databricks.v1+cell": {
     "cellMetadata": {
      "implicitDf": true
     },
     "inputWidgets": {},
     "nuid": "08b72fa8-bd64-4975-8c5d-c72347bae171",
     "showTitle": false,
     "title": ""
    }
   },
   "outputs": [],
   "source": [
    "%sql\n",
    "\n",
    "SELECT store_and_fwd_flag\n",
    "FROM TaxiDB.GreenTaxis    VERSION AS OF 4\n",
    "WHERE VendorId = 3"
   ]
  },
  {
   "cell_type": "code",
   "execution_count": 0,
   "metadata": {
    "application/vnd.databricks.v1+cell": {
     "cellMetadata": {
      "implicitDf": true
     },
     "inputWidgets": {},
     "nuid": "51ef8f5b-a75a-4dc5-b6b6-3ca728132e51",
     "showTitle": false,
     "title": ""
    }
   },
   "outputs": [],
   "source": [
    "%sql\n",
    "\n",
    "SELECT store_and_fwd_flag\n",
    "FROM TaxiDB.GreenTaxis    TIMESTAMP AS OF '<add timestamp>'\n",
    "WHERE VendorId = 3"
   ]
  },
  {
   "cell_type": "markdown",
   "metadata": {
    "application/vnd.databricks.v1+cell": {
     "cellMetadata": {},
     "inputWidgets": {},
     "nuid": "c9c70b50-0283-448d-9901-5cb173b341c3",
     "showTitle": false,
     "title": ""
    }
   },
   "source": [
    "### Table Constraints"
   ]
  },
  {
   "cell_type": "code",
   "execution_count": 0,
   "metadata": {
    "application/vnd.databricks.v1+cell": {
     "cellMetadata": {
      "implicitDf": true
     },
     "inputWidgets": {},
     "nuid": "cdc4126d-40f0-4ca7-b810-fcfcd24ecad4",
     "showTitle": false,
     "title": ""
    }
   },
   "outputs": [],
   "source": [
    "%sql\n",
    "\n",
    "--Table constraints\n",
    "\n",
    "ALTER TABLE TaxiDB.GreenTaxis\n",
    "\n",
    "ADD CONSTRAINT PassengerCountCheck CHECK (passenger_count IS NULL OR passenger_count <= 6)"
   ]
  },
  {
   "cell_type": "markdown",
   "metadata": {
    "application/vnd.databricks.v1+cell": {
     "cellMetadata": {},
     "inputWidgets": {},
     "nuid": "c0411f01-35ce-4f4a-b321-b0c5a9a8d0aa",
     "showTitle": false,
     "title": ""
    }
   },
   "source": [
    "#####Previous statement will fail since table already has records that does not satisfy constraint conditions"
   ]
  },
  {
   "cell_type": "code",
   "execution_count": 0,
   "metadata": {
    "application/vnd.databricks.v1+cell": {
     "cellMetadata": {
      "implicitDf": true
     },
     "inputWidgets": {},
     "nuid": "9983b97b-96f3-4541-ae12-db2e798ed220",
     "showTitle": false,
     "title": ""
    }
   },
   "outputs": [],
   "source": [
    "%sql\n",
    "\n",
    "--Table constraints\n",
    "\n",
    "ALTER TABLE TaxiDB.GreenTaxis\n",
    "\n",
    "ADD CONSTRAINT PassengerCountCheck CHECK (passenger_count IS NULL OR passenger_count <= 9)"
   ]
  },
  {
   "cell_type": "code",
   "execution_count": 0,
   "metadata": {
    "application/vnd.databricks.v1+cell": {
     "cellMetadata": {
      "implicitDf": true
     },
     "inputWidgets": {},
     "nuid": "13aa865b-eea7-414f-b0de-858f9e8def2b",
     "showTitle": false,
     "title": ""
    }
   },
   "outputs": [],
   "source": [
    "%sql\n",
    "\n",
    "INSERT INTO TaxiDB.GreenTaxis\n",
    "(VendorId, lpep_pickup_datetime, lpep_dropoff_datetime, store_and_fwd_flag, RatecodeID, PULocationID, DOLocationID, passenger_count, trip_distance, fare_amount, extra, mta_tax, tip_amount, tolls_amount, ehail_fee, improvement_surcharge, total_amount, payment_type, trip_type)\n",
    "\n",
    "VALUES (1, '2019-12-01T00:00:00.000Z', '2019-12-01T00:15:34.000Z', 'N', 1, 145, 148, \n",
    "\n",
    "10,  -- passenger_count\n",
    "\n",
    "2.9, 100.0, 15.3, 13.0, 0.5, 0.5, 1.0, 0.0, 140.0, 1, 1)"
   ]
  }
 ],
 "metadata": {
  "application/vnd.databricks.v1+notebook": {
   "dashboards": [],
   "language": "python",
   "notebookMetadata": {
    "mostRecentlyExecutedCommandWithImplicitDF": {
     "commandId": 2335733952953614,
     "dataframes": [
      "_sqldf"
     ]
    },
    "pythonIndentUnit": 2
   },
   "notebookName": "Delta Lake - Share",
   "widgets": {}
  }
 },
 "nbformat": 4,
 "nbformat_minor": 0
}
