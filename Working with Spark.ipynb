{
 "cells": [
  {
   "cell_type": "code",
   "execution_count": 0,
   "metadata": {
    "application/vnd.databricks.v1+cell": {
     "cellMetadata": {},
     "inputWidgets": {},
     "nuid": "e07ae2a6-04b3-4871-8955-bedcbb338dab",
     "showTitle": false,
     "title": ""
    }
   },
   "outputs": [],
   "source": [
    "# Create multi column DataFrame from RDD\n",
    "employees = sc.parallelize(\n",
    "                            [\n",
    "                                (1, \"John\", 10000),\n",
    "                                (2, \"Fred\", 20000),\n",
    "                                (3, \"Anna\", 30000),\n",
    "                                (4, \"James\", 40000),\n",
    "                                (5, \"Mohit\", 50000)\n",
    "                            ]\n",
    "                          )\n",
    "\n",
    "employeesDF = employees.toDF()"
   ]
  },
  {
   "cell_type": "code",
   "execution_count": 0,
   "metadata": {
    "application/vnd.databricks.v1+cell": {
     "cellMetadata": {},
     "inputWidgets": {},
     "nuid": "c300e6e5-27de-471e-a0f4-107cf2be242d",
     "showTitle": false,
     "title": ""
    }
   },
   "outputs": [],
   "source": [
    "employeesDF.show()"
   ]
  },
  {
   "cell_type": "code",
   "execution_count": 0,
   "metadata": {
    "application/vnd.databricks.v1+cell": {
     "cellMetadata": {},
     "inputWidgets": {},
     "nuid": "3d16a614-0e15-476a-b1c8-f08df1f62329",
     "showTitle": false,
     "title": ""
    }
   },
   "outputs": [],
   "source": [
    "employeesDF = employeesDF.toDF(\"id\", \"name\", \"salary\")\n",
    "\n",
    "employeesDF.show()"
   ]
  },
  {
   "cell_type": "code",
   "execution_count": 0,
   "metadata": {
    "application/vnd.databricks.v1+cell": {
     "cellMetadata": {},
     "inputWidgets": {},
     "nuid": "cbaf8a3d-958e-4327-b1bf-71e014a8b05c",
     "showTitle": false,
     "title": ""
    }
   },
   "outputs": [],
   "source": [
    "display(employeesDF)"
   ]
  },
  {
   "cell_type": "code",
   "execution_count": 0,
   "metadata": {
    "application/vnd.databricks.v1+cell": {
     "cellMetadata": {},
     "inputWidgets": {},
     "nuid": "e9c31608-342f-46d9-8a33-872f71e743fb",
     "showTitle": false,
     "title": ""
    }
   },
   "outputs": [],
   "source": [
    "# Filter data\n",
    "\n",
    "newdf = (\n",
    "            employeesDF\n",
    "                .where(\"salary > 20000\")\n",
    "                .where(\"ID = 4\")\n",
    "                \n",
    "        )\n",
    "\n",
    "display(newdf)"
   ]
  },
  {
   "cell_type": "markdown",
   "metadata": {
    "application/vnd.databricks.v1+cell": {
     "cellMetadata": {},
     "inputWidgets": {},
     "nuid": "46f0a16a-5a40-4644-b10f-ca38c0f07e45",
     "showTitle": false,
     "title": ""
    }
   },
   "source": [
    "###Databricks Utilities"
   ]
  },
  {
   "cell_type": "code",
   "execution_count": 0,
   "metadata": {
    "application/vnd.databricks.v1+cell": {
     "cellMetadata": {},
     "inputWidgets": {},
     "nuid": "5b35a6e8-06d3-41ce-9c05-010899d24634",
     "showTitle": false,
     "title": ""
    }
   },
   "outputs": [],
   "source": [
    "dbutils.help()"
   ]
  },
  {
   "cell_type": "code",
   "execution_count": 0,
   "metadata": {
    "application/vnd.databricks.v1+cell": {
     "cellMetadata": {},
     "inputWidgets": {},
     "nuid": "4d289e1d-c8b1-4869-ae42-96c15951c688",
     "showTitle": false,
     "title": ""
    }
   },
   "outputs": [],
   "source": [
    "dbutils.fs.help()"
   ]
  },
  {
   "cell_type": "markdown",
   "metadata": {
    "application/vnd.databricks.v1+cell": {
     "cellMetadata": {},
     "inputWidgets": {},
     "nuid": "4b0d869b-4e0e-4a51-87ad-d31c6333b8cf",
     "showTitle": false,
     "title": ""
    }
   },
   "source": [
    "###Accessing Data Lake with Access Key"
   ]
  },
  {
   "cell_type": "markdown",
   "metadata": {
    "application/vnd.databricks.v1+cell": {
     "cellMetadata": {},
     "inputWidgets": {},
     "nuid": "d70506e6-84aa-498f-9b27-5bf4978eb349",
     "showTitle": false,
     "title": ""
    }
   },
   "source": [
    "####Step 1: Get Access Key of Data Lake\n",
    "1. Go to Data Lake account\n",
    "2. From left pane, go to Access Keys\n",
    "3. Copy Key1\n",
    "\n",
    "####Step 2: Replace values\n",
    "1. In below 2 cells, replace the values of Data Lake name (twice), Access Key and Container Name"
   ]
  },
  {
   "cell_type": "code",
   "execution_count": 0,
   "metadata": {
    "application/vnd.databricks.v1+cell": {
     "cellMetadata": {},
     "inputWidgets": {},
     "nuid": "b6873e09-bb49-4c7f-990d-d3b2eaa50aaa",
     "showTitle": false,
     "title": ""
    }
   },
   "outputs": [],
   "source": [
    "spark.conf.set(\n",
    "    \"fs.azure.account.key.***DataLakeName***.dfs.core.windows.net\",\n",
    "  \n",
    "    \"***Access Key***\")"
   ]
  },
  {
   "cell_type": "code",
   "execution_count": 0,
   "metadata": {
    "application/vnd.databricks.v1+cell": {
     "cellMetadata": {},
     "inputWidgets": {},
     "nuid": "1500eb24-0838-4808-b7cd-ae5ca193a494",
     "showTitle": false,
     "title": ""
    }
   },
   "outputs": [],
   "source": [
    "display(dbutils.fs.ls(\"abfss://***ContainerName***@***DataLakeName***.dfs.core.windows.net/Raw/\"))"
   ]
  },
  {
   "cell_type": "markdown",
   "metadata": {
    "application/vnd.databricks.v1+cell": {
     "cellMetadata": {},
     "inputWidgets": {},
     "nuid": "46fbd9dd-7a53-4027-8a98-8d67d5c10090",
     "showTitle": false,
     "title": ""
    }
   },
   "source": [
    "##Working with DataFrames"
   ]
  },
  {
   "cell_type": "code",
   "execution_count": 0,
   "metadata": {
    "application/vnd.databricks.v1+cell": {
     "cellMetadata": {},
     "inputWidgets": {},
     "nuid": "afc2b543-d350-4a27-aaa6-c4068b37a5fc",
     "showTitle": false,
     "title": ""
    }
   },
   "outputs": [],
   "source": [
    "# Make sure to set the path correctly >> Use head command to verify if file is accessible\n",
    "\n",
    "greenTaxisFilePath = \"abfss://***ContainerName***@***DataLakeName***.dfs.core.windows.net/Raw/GreenTaxis_201911.csv\""
   ]
  },
  {
   "cell_type": "code",
   "execution_count": 0,
   "metadata": {
    "application/vnd.databricks.v1+cell": {
     "cellMetadata": {},
     "inputWidgets": {},
     "nuid": "3a624d09-86e0-4bf6-8300-58c5410a4cf1",
     "showTitle": false,
     "title": ""
    }
   },
   "outputs": [],
   "source": [
    "# Change the path based on file location in your Data Lake\n",
    "\n",
    "dbutils.fs.head(greenTaxisFilePath)"
   ]
  },
  {
   "cell_type": "code",
   "execution_count": 0,
   "metadata": {
    "application/vnd.databricks.v1+cell": {
     "cellMetadata": {},
     "inputWidgets": {},
     "nuid": "62fa2cdf-59ed-4d41-a660-7a547a980518",
     "showTitle": false,
     "title": ""
    }
   },
   "outputs": [],
   "source": [
    "# Read csv file\n",
    "greenTaxiDF = (\n",
    "                  spark\n",
    "                    .read                     \n",
    "                    .csv(greenTaxisFilePath)\n",
    "              )\n",
    "\n",
    "display(greenTaxiDF)"
   ]
  },
  {
   "cell_type": "code",
   "execution_count": 0,
   "metadata": {
    "application/vnd.databricks.v1+cell": {
     "cellMetadata": {},
     "inputWidgets": {},
     "nuid": "24480abe-13c4-4f37-8054-fc2aa53ac11e",
     "showTitle": false,
     "title": ""
    }
   },
   "outputs": [],
   "source": [
    "# Read csv file by setting header as true\n",
    "greenTaxiDF = (\n",
    "                  spark\n",
    "                    .read\n",
    "\n",
    "                    .option(\"header\", \"true\")\n",
    "                    \n",
    "                    .csv(greenTaxisFilePath)\n",
    "              )\n",
    "\n",
    "display(greenTaxiDF)"
   ]
  },
  {
   "cell_type": "code",
   "execution_count": 0,
   "metadata": {
    "application/vnd.databricks.v1+cell": {
     "cellMetadata": {},
     "inputWidgets": {},
     "nuid": "4642b491-8362-43d5-a9ed-88db5acc029d",
     "showTitle": false,
     "title": ""
    }
   },
   "outputs": [],
   "source": [
    "# Read csv file by setting header and inferring schema\n",
    "greenTaxiDF = (\n",
    "                  spark\n",
    "                    .read\n",
    "\n",
    "                    .option(\"header\", \"true\")\n",
    "                    .option(\"inferSchema\", \"true\")\n",
    "                    \n",
    "                    .csv(greenTaxisFilePath)\n",
    "              )\n",
    "\n",
    "display(greenTaxiDF)"
   ]
  },
  {
   "cell_type": "code",
   "execution_count": 0,
   "metadata": {
    "application/vnd.databricks.v1+cell": {
     "cellMetadata": {},
     "inputWidgets": {},
     "nuid": "a9b170bb-9814-4fb7-8a38-3faac6575843",
     "showTitle": false,
     "title": ""
    }
   },
   "outputs": [],
   "source": [
    "greenTaxiDF.printSchema()"
   ]
  },
  {
   "cell_type": "markdown",
   "metadata": {
    "application/vnd.databricks.v1+cell": {
     "cellMetadata": {},
     "inputWidgets": {},
     "nuid": "34564d53-4082-4854-9cca-069e0066996a",
     "showTitle": false,
     "title": ""
    }
   },
   "source": [
    "##Applying Schemas"
   ]
  },
  {
   "cell_type": "code",
   "execution_count": 0,
   "metadata": {
    "application/vnd.databricks.v1+cell": {
     "cellMetadata": {},
     "inputWidgets": {},
     "nuid": "9edaf345-39a9-4c91-9fa4-0f3dae9d7d02",
     "showTitle": false,
     "title": ""
    }
   },
   "outputs": [],
   "source": [
    "# Create schema for Green Taxi Data\n",
    "\n",
    "from pyspark.sql.functions import *\n",
    "from pyspark.sql.types import *\n",
    "  \n",
    "greenTaxiSchema = (\n",
    "            StructType()               \n",
    "               .add(\"VendorId\", \"integer\")\n",
    "               .add(\"lpep_pickup_datetime\", \"timestamp\")\n",
    "               .add(\"lpep_dropoff_datetime\", \"timestamp\")\n",
    "               .add(\"store_and_fwd_flag\", \"string\")\n",
    "               .add(\"RatecodeID\", \"integer\")\n",
    "               .add(\"PULocationID\", \"integer\")\n",
    "               .add(\"DOLocationID\", \"integer\")\n",
    "  \n",
    "              .add(\"passenger_count\", \"integer\")\n",
    "              .add(\"trip_distance\", \"double\")\n",
    "              .add(\"fare_amount\", \"double\")\n",
    "              .add(\"extra\", \"double\")\n",
    "              .add(\"mta_tax\", \"double\")\n",
    "              .add(\"tip_amount\", \"double\")\n",
    "  \n",
    "              .add(\"tolls_amount\", \"double\")\n",
    "              .add(\"ehail_fee\", \"double\")\n",
    "              .add(\"improvement_surcharge\", \"double\")\n",
    "              .add(\"total_amount\", \"double\")\n",
    "              .add(\"payment_type\", \"integer\")\n",
    "              .add(\"trip_type\", \"integer\")\n",
    "         )"
   ]
  },
  {
   "cell_type": "code",
   "execution_count": 0,
   "metadata": {
    "application/vnd.databricks.v1+cell": {
     "cellMetadata": {},
     "inputWidgets": {},
     "nuid": "dbfaca7c-a682-47ea-9ab2-117d1f34d435",
     "showTitle": false,
     "title": ""
    }
   },
   "outputs": [],
   "source": [
    "# Read csv file by applying schema\n",
    "greenTaxiDF = (\n",
    "                  spark\n",
    "                    .read\n",
    "\n",
    "                    .option(\"header\", \"true\")\n",
    "\n",
    "                    .schema(greenTaxiSchema)\n",
    "                    \n",
    "                    .csv(greenTaxisFilePath)\n",
    "              )\n",
    "\n",
    "display(greenTaxiDF)"
   ]
  },
  {
   "cell_type": "markdown",
   "metadata": {
    "application/vnd.databricks.v1+cell": {
     "cellMetadata": {},
     "inputWidgets": {},
     "nuid": "24ed0bbd-908a-4f77-b5e7-11879d37c5b5",
     "showTitle": false,
     "title": ""
    }
   },
   "source": [
    "##Analyzing Data"
   ]
  },
  {
   "cell_type": "code",
   "execution_count": 0,
   "metadata": {
    "application/vnd.databricks.v1+cell": {
     "cellMetadata": {},
     "inputWidgets": {},
     "nuid": "73cf99e0-b9e7-43a1-b3c6-c139efb362c6",
     "showTitle": false,
     "title": ""
    }
   },
   "outputs": [],
   "source": [
    "display(\n",
    "    greenTaxiDF.describe(\n",
    "                             \"passenger_count\",                                     \n",
    "                             \"trip_distance\"                                     \n",
    "                        )\n",
    ")"
   ]
  },
  {
   "cell_type": "markdown",
   "metadata": {
    "application/vnd.databricks.v1+cell": {
     "cellMetadata": {},
     "inputWidgets": {},
     "nuid": "7d08f0d1-fe5f-45ea-9c54-8b6dfd64ddcb",
     "showTitle": false,
     "title": ""
    }
   },
   "source": [
    "##Cleaning Raw Data"
   ]
  },
  {
   "cell_type": "code",
   "execution_count": 0,
   "metadata": {
    "application/vnd.databricks.v1+cell": {
     "cellMetadata": {},
     "inputWidgets": {},
     "nuid": "cb1f07bd-f028-4d82-b36b-9c3b692398b0",
     "showTitle": false,
     "title": ""
    }
   },
   "outputs": [],
   "source": [
    "# Count before filtering\n",
    "print(\"Before = \" + str(greenTaxiDF.count()))\n",
    "\n",
    "# Filter inaccurate data\n",
    "greenTaxiDF = (\n",
    "                  greenTaxiDF\n",
    "                          .where(\"passenger_count > 0\")\n",
    "  \n",
    "                          .filter(col(\"trip_distance\") > 0.0)\n",
    ")\n",
    "\n",
    "# Count after filtering\n",
    "print(\"After = \" + str(greenTaxiDF.count()))"
   ]
  },
  {
   "cell_type": "code",
   "execution_count": 0,
   "metadata": {
    "application/vnd.databricks.v1+cell": {
     "cellMetadata": {},
     "inputWidgets": {},
     "nuid": "6c129d16-35c1-416b-a0cf-5b78faed2074",
     "showTitle": false,
     "title": ""
    }
   },
   "outputs": [],
   "source": [
    "# Drop rows with nulls\n",
    "greenTaxiDF = (\n",
    "                  greenTaxiDF\n",
    "                          .na.drop('all')\n",
    "              )"
   ]
  },
  {
   "cell_type": "code",
   "execution_count": 0,
   "metadata": {
    "application/vnd.databricks.v1+cell": {
     "cellMetadata": {},
     "inputWidgets": {},
     "nuid": "a1342293-c505-4b7d-a73f-3520708d436d",
     "showTitle": false,
     "title": ""
    }
   },
   "outputs": [],
   "source": [
    "# Map of default values\n",
    "defaultValueMap = {'payment_type': 5, 'RateCodeID': 1}\n",
    "\n",
    "# Replace nulls with default values\n",
    "greenTaxiDF = (\n",
    "                  greenTaxiDF\n",
    "                      .na.fill(defaultValueMap)\n",
    "              )"
   ]
  },
  {
   "cell_type": "code",
   "execution_count": 0,
   "metadata": {
    "application/vnd.databricks.v1+cell": {
     "cellMetadata": {},
     "inputWidgets": {},
     "nuid": "afb1e730-172b-49f7-ae20-9a2c2929d269",
     "showTitle": false,
     "title": ""
    }
   },
   "outputs": [],
   "source": [
    "# Drop duplicate rows\n",
    "greenTaxiDF = (\n",
    "                  greenTaxiDF\n",
    "                          .dropDuplicates()\n",
    "              )"
   ]
  },
  {
   "cell_type": "code",
   "execution_count": 0,
   "metadata": {
    "application/vnd.databricks.v1+cell": {
     "cellMetadata": {},
     "inputWidgets": {},
     "nuid": "37d76504-27d4-4bce-8799-6219a8abe6fb",
     "showTitle": false,
     "title": ""
    }
   },
   "outputs": [],
   "source": [
    "# Drop duplicate rows\n",
    "greenTaxiDF = (\n",
    "                  greenTaxiDF\n",
    "                          .where(\"lpep_pickup_datetime >= '2019-11-01' AND lpep_dropoff_datetime < '2019-12-01'\")\n",
    "              )"
   ]
  },
  {
   "cell_type": "code",
   "execution_count": 0,
   "metadata": {
    "application/vnd.databricks.v1+cell": {
     "cellMetadata": {},
     "inputWidgets": {},
     "nuid": "e285b562-3c39-41a6-8228-35a478e36281",
     "showTitle": false,
     "title": ""
    }
   },
   "outputs": [],
   "source": [
    "# Display the final count\n",
    "\n",
    "print(\"Final count after cleanup = \" + str(greenTaxiDF.count()))"
   ]
  },
  {
   "cell_type": "code",
   "execution_count": 0,
   "metadata": {
    "application/vnd.databricks.v1+cell": {
     "cellMetadata": {},
     "inputWidgets": {},
     "nuid": "63552109-714c-4837-94d8-c2b3c9904972",
     "showTitle": false,
     "title": ""
    }
   },
   "outputs": [],
   "source": [
    "display(greenTaxiDF)"
   ]
  },
  {
   "cell_type": "markdown",
   "metadata": {
    "application/vnd.databricks.v1+cell": {
     "cellMetadata": {},
     "inputWidgets": {},
     "nuid": "99238515-fe28-4402-a158-f74d12cc7535",
     "showTitle": false,
     "title": ""
    }
   },
   "source": [
    "##Applying Transformations"
   ]
  },
  {
   "cell_type": "code",
   "execution_count": 0,
   "metadata": {
    "application/vnd.databricks.v1+cell": {
     "cellMetadata": {},
     "inputWidgets": {},
     "nuid": "8728904b-c7e3-4e0c-a061-0335230197ae",
     "showTitle": false,
     "title": ""
    }
   },
   "outputs": [],
   "source": [
    "greenTaxiDF = (\n",
    "                  greenTaxiDF\n",
    "\n",
    "                        # Select only limited columns\n",
    "                        .select(\n",
    "                                  col(\"VendorID\"),\n",
    "                                  col(\"passenger_count\").alias(\"PassengerCount\"),\n",
    "                                  col(\"trip_distance\").alias(\"TripDistance\"),\n",
    "                                  col(\"lpep_pickup_datetime\").alias(\"PickupTime\"),                          \n",
    "                                  col(\"lpep_dropoff_datetime\").alias(\"DropTime\"), \n",
    "                                  col(\"PUlocationID\").alias(\"PickupLocationId\"), \n",
    "                                  col(\"DOlocationID\").alias(\"DropLocationId\"), \n",
    "                                  col(\"RatecodeID\"), \n",
    "                                  col(\"total_amount\").alias(\"TotalAmount\"),\n",
    "                                  col(\"payment_type\").alias(\"PaymentType\")\n",
    "                               )\n",
    "              )\n",
    "\n",
    "greenTaxiDF.printSchema()"
   ]
  },
  {
   "cell_type": "code",
   "execution_count": 0,
   "metadata": {
    "application/vnd.databricks.v1+cell": {
     "cellMetadata": {},
     "inputWidgets": {},
     "nuid": "7059128c-84b3-4887-9c26-eafcf166cad3",
     "showTitle": false,
     "title": ""
    }
   },
   "outputs": [],
   "source": [
    "# Create a derived column - Trip time in minutes\n",
    "greenTaxiDF = (\n",
    "                  greenTaxiDF\n",
    "                        .withColumn(\"TripTimeInMinutes\", \n",
    "                                        round(\n",
    "                                                (unix_timestamp(col(\"DropTime\")) - unix_timestamp(col(\"PickupTime\"))) \n",
    "                                                    / 60\n",
    "                                             )\n",
    "                                   )\n",
    "              )\n",
    "\n",
    "greenTaxiDF.printSchema()"
   ]
  },
  {
   "cell_type": "code",
   "execution_count": 0,
   "metadata": {
    "application/vnd.databricks.v1+cell": {
     "cellMetadata": {},
     "inputWidgets": {},
     "nuid": "0d06da1d-b132-469d-a8a4-4944cbff81e2",
     "showTitle": false,
     "title": ""
    }
   },
   "outputs": [],
   "source": [
    "# Create a derived column - Trip type\n",
    "greenTaxiDF = (\n",
    "                  greenTaxiDF\n",
    "                        .withColumn(\"TripType\", \n",
    "                                        when(\n",
    "                                                col(\"RatecodeID\") == 6,\n",
    "                                                  \"SharedTrip\"\n",
    "                                            )\n",
    "                                        .otherwise(\"SoloTrip\")\n",
    "                                   )\n",
    "              )\n",
    "\n",
    "greenTaxiDF.printSchema()"
   ]
  },
  {
   "cell_type": "code",
   "execution_count": 0,
   "metadata": {
    "application/vnd.databricks.v1+cell": {
     "cellMetadata": {},
     "inputWidgets": {},
     "nuid": "e557cd47-ae51-4b12-b9a0-ec23b1f9e24d",
     "showTitle": false,
     "title": ""
    }
   },
   "outputs": [],
   "source": [
    "# Create derived columns for year, month and day\n",
    "greenTaxiDF = (\n",
    "                  greenTaxiDF\n",
    "                        .withColumn(\"TripYear\", year(col(\"PickupTime\")))\n",
    "                        .withColumn(\"TripMonth\", month(col(\"PickupTime\")))\n",
    "                        .withColumn(\"TripDay\", dayofmonth(col(\"PickupTime\")))\n",
    "              )\n",
    "\n",
    "greenTaxiDF.printSchema()"
   ]
  },
  {
   "cell_type": "code",
   "execution_count": 0,
   "metadata": {
    "application/vnd.databricks.v1+cell": {
     "cellMetadata": {},
     "inputWidgets": {},
     "nuid": "3fa8caea-44bb-4b31-8440-0e3c7f4c8f9b",
     "showTitle": false,
     "title": ""
    }
   },
   "outputs": [],
   "source": [
    "display(greenTaxiDF)"
   ]
  },
  {
   "cell_type": "code",
   "execution_count": 0,
   "metadata": {
    "application/vnd.databricks.v1+cell": {
     "cellMetadata": {},
     "inputWidgets": {},
     "nuid": "a23d350a-c4aa-44cc-bff1-bb65d3d0e708",
     "showTitle": false,
     "title": ""
    }
   },
   "outputs": [],
   "source": [
    "greenTaxiGroupedDF = (\n",
    "                          greenTaxiDF\n",
    "                            .groupBy(\"TripDay\")\n",
    "                            .agg(sum(\"TotalAmount\").alias(\"total\"))\n",
    "  \n",
    "                            .orderBy(col(\"TripDay\").desc())\n",
    "                     )\n",
    "    \n",
    "display(greenTaxiGroupedDF)"
   ]
  },
  {
   "cell_type": "markdown",
   "metadata": {
    "application/vnd.databricks.v1+cell": {
     "cellMetadata": {},
     "inputWidgets": {},
     "nuid": "63356f2f-f087-4412-9a02-0edee107bba5",
     "showTitle": false,
     "title": ""
    }
   },
   "source": [
    "##Joining with another dataset"
   ]
  },
  {
   "cell_type": "code",
   "execution_count": 0,
   "metadata": {
    "application/vnd.databricks.v1+cell": {
     "cellMetadata": {},
     "inputWidgets": {},
     "nuid": "ca573d5e-804c-454e-a0b7-844cce59cf92",
     "showTitle": false,
     "title": ""
    }
   },
   "outputs": [],
   "source": [
    "# Make sure to set the path correctly >> Use head command to verify if file is accessible\n",
    "\n",
    "taxiZonesFilePath = \"abfss://***ContainerName***@***DataLakeName***.dfs.core.windows.net/Raw/TaxiZones.csv\""
   ]
  },
  {
   "cell_type": "code",
   "execution_count": 0,
   "metadata": {
    "application/vnd.databricks.v1+cell": {
     "cellMetadata": {},
     "inputWidgets": {},
     "nuid": "e919406e-6208-4cd9-8887-15794ab6bf5a",
     "showTitle": false,
     "title": ""
    }
   },
   "outputs": [],
   "source": [
    "dbutils.fs.head(taxiZonesFilePath)"
   ]
  },
  {
   "cell_type": "code",
   "execution_count": 0,
   "metadata": {
    "application/vnd.databricks.v1+cell": {
     "cellMetadata": {},
     "inputWidgets": {},
     "nuid": "5645cad3-9c88-4e6a-b445-5099cff36632",
     "showTitle": false,
     "title": ""
    }
   },
   "outputs": [],
   "source": [
    "# Read TaxiZones file\n",
    "taxiZonesDF = (\n",
    "                  spark\n",
    "                      .read\n",
    "                      .option(\"header\", \"true\")\n",
    "                      .option(\"inferSchema\", \"true\")\n",
    "                      .csv(taxiZonesFilePath)\n",
    "              )\n",
    "\n",
    "display(taxiZonesDF)"
   ]
  },
  {
   "cell_type": "code",
   "execution_count": 0,
   "metadata": {
    "application/vnd.databricks.v1+cell": {
     "cellMetadata": {},
     "inputWidgets": {},
     "nuid": "9b831b23-f0cf-461c-857e-7e2ecb2f1a97",
     "showTitle": false,
     "title": ""
    }
   },
   "outputs": [],
   "source": [
    "greenTaxiWithZonesDF = (\n",
    "                          greenTaxiDF.alias(\"g\")\n",
    "                                     .join(taxiZonesDF.alias(\"t\"),                                               \n",
    "                                               col(\"t.LocationId\") == col(\"g.PickupLocationId\"),\n",
    "                                              \"inner\"\n",
    "                                          )\n",
    "                       )\n",
    "\n",
    "display(greenTaxiWithZonesDF)"
   ]
  },
  {
   "cell_type": "markdown",
   "metadata": {
    "application/vnd.databricks.v1+cell": {
     "cellMetadata": {},
     "inputWidgets": {},
     "nuid": "2f35f5ae-d8d1-41a0-9d46-1c263eb3a137",
     "showTitle": false,
     "title": ""
    }
   },
   "source": [
    "###Exercise"
   ]
  },
  {
   "cell_type": "code",
   "execution_count": 0,
   "metadata": {
    "application/vnd.databricks.v1+cell": {
     "cellMetadata": {},
     "inputWidgets": {},
     "nuid": "691317e2-f67a-477f-9d54-e922a6e7f492",
     "showTitle": false,
     "title": ""
    }
   },
   "outputs": [],
   "source": [
    "# EXERCISE - JOIN greenTaxiWithZonesDF with TaxiZones on DropLocationId. And group by PickupZone and DropZone, and provide average of TotalAmount."
   ]
  },
  {
   "cell_type": "markdown",
   "metadata": {
    "application/vnd.databricks.v1+cell": {
     "cellMetadata": {},
     "inputWidgets": {},
     "nuid": "64191f37-179a-4dd1-be0d-ed3f9f3b57cd",
     "showTitle": false,
     "title": ""
    }
   },
   "source": [
    "##Working with Spark SQL"
   ]
  },
  {
   "cell_type": "code",
   "execution_count": 0,
   "metadata": {
    "application/vnd.databricks.v1+cell": {
     "cellMetadata": {},
     "inputWidgets": {},
     "nuid": "b75e61a8-08f0-467a-b364-55037758bec0",
     "showTitle": false,
     "title": ""
    }
   },
   "outputs": [],
   "source": [
    "# Create a local temp view\n",
    "greenTaxiDF.createOrReplaceTempView(\"GreenTaxiTripData\")"
   ]
  },
  {
   "cell_type": "code",
   "execution_count": 0,
   "metadata": {
    "application/vnd.databricks.v1+cell": {
     "cellMetadata": {},
     "inputWidgets": {},
     "nuid": "84c7f26b-624b-43b7-b632-b7cbc61a9aa1",
     "showTitle": false,
     "title": ""
    }
   },
   "outputs": [],
   "source": [
    "display(\n",
    "  spark.sql(\"SELECT PassengerCount, PickupTime FROM GreenTaxiTripData WHERE PickupLocationID = 1\")\n",
    ")"
   ]
  },
  {
   "cell_type": "code",
   "execution_count": 0,
   "metadata": {
    "application/vnd.databricks.v1+cell": {
     "cellMetadata": {
      "implicitDf": true
     },
     "inputWidgets": {},
     "nuid": "65a1fdc2-91f5-4f1b-bef6-69e0587fb4f8",
     "showTitle": false,
     "title": ""
    }
   },
   "outputs": [],
   "source": [
    "%sql\n",
    "\n",
    "SELECT PassengerCount, PickupTime \n",
    "FROM GreenTaxiTripData \n",
    "WHERE PickupLocationID = 1"
   ]
  },
  {
   "cell_type": "markdown",
   "metadata": {
    "application/vnd.databricks.v1+cell": {
     "cellMetadata": {},
     "inputWidgets": {},
     "nuid": "198b75ce-85b2-4265-8c45-3e13bb78a814",
     "showTitle": false,
     "title": ""
    }
   },
   "source": [
    "##Writing Output to Data Lake"
   ]
  },
  {
   "cell_type": "code",
   "execution_count": 0,
   "metadata": {
    "application/vnd.databricks.v1+cell": {
     "cellMetadata": {},
     "inputWidgets": {},
     "nuid": "56450558-b7c6-4e3b-a6f0-a7d0877f0c92",
     "showTitle": false,
     "title": ""
    }
   },
   "outputs": [],
   "source": [
    "#Define the path\n",
    "\n",
    "outputFilePath = \"abfss://***ContainerName***@***DataLakeName***.dfs.core.windows.net/Output/GreenTaxis\""
   ]
  },
  {
   "cell_type": "code",
   "execution_count": 0,
   "metadata": {
    "application/vnd.databricks.v1+cell": {
     "cellMetadata": {},
     "inputWidgets": {},
     "nuid": "ab0174b0-49d1-40fe-b06d-2f7fa6a3be80",
     "showTitle": false,
     "title": ""
    }
   },
   "outputs": [],
   "source": [
    "# Write output as CSV File\n",
    "(\n",
    "    greenTaxiDF   \n",
    "        .write\n",
    "        .option(\"header\", \"true\")\n",
    "        .option(\"dateFormat\", \"yyyy-MM-dd HH:mm:ss.S\")\n",
    "        .mode(\"overwrite\")\n",
    "        .csv(outputFilePath + \".csv\")\n",
    ")"
   ]
  },
  {
   "cell_type": "code",
   "execution_count": 0,
   "metadata": {
    "application/vnd.databricks.v1+cell": {
     "cellMetadata": {},
     "inputWidgets": {},
     "nuid": "22b5210c-acab-460a-9dcf-c5e1e2382ca0",
     "showTitle": false,
     "title": ""
    }
   },
   "outputs": [],
   "source": [
    "# Load the dataframe as parquet to storage\n",
    "(\n",
    "    greenTaxiDF  \n",
    "      .write\n",
    "      .option(\"header\", \"true\")\n",
    "      .option(\"dateFormat\", \"yyyy-MM-dd HH:mm:ss.S\")\n",
    "      .mode(\"overwrite\")\n",
    "      .parquet(outputFilePath + \".parquet\")\n",
    ")"
   ]
  },
  {
   "cell_type": "markdown",
   "metadata": {
    "application/vnd.databricks.v1+cell": {
     "cellMetadata": {},
     "inputWidgets": {},
     "nuid": "f4f0865f-7ecc-4161-8368-902ec27b09d2",
     "showTitle": false,
     "title": ""
    }
   },
   "source": [
    "###Reading JSON"
   ]
  },
  {
   "cell_type": "code",
   "execution_count": 0,
   "metadata": {
    "application/vnd.databricks.v1+cell": {
     "cellMetadata": {},
     "inputWidgets": {},
     "nuid": "c446ebf2-0d17-4476-ac73-539ca91686b0",
     "showTitle": false,
     "title": ""
    }
   },
   "outputs": [],
   "source": [
    "# Make sure to set the path correctly >> Use head command to verify if file is accessible\n",
    "\n",
    "paymentTypesFilePath = \"abfss://***ContainerName***@***DataLakeName***.dfs.core.windows.net/Raw/PaymentTypes.json\""
   ]
  },
  {
   "cell_type": "code",
   "execution_count": 0,
   "metadata": {
    "application/vnd.databricks.v1+cell": {
     "cellMetadata": {},
     "inputWidgets": {},
     "nuid": "52635f24-c258-4816-8bcf-09534b65d1ae",
     "showTitle": false,
     "title": ""
    }
   },
   "outputs": [],
   "source": [
    "paymentTypes = (\n",
    "                    spark\n",
    "                        .read\n",
    "                        .json(paymentTypesFilePath)\n",
    ")\n",
    "\n",
    "display(paymentTypes)"
   ]
  },
  {
   "cell_type": "markdown",
   "metadata": {
    "application/vnd.databricks.v1+cell": {
     "cellMetadata": {},
     "inputWidgets": {},
     "nuid": "d1a8f332-f95d-4c15-80d8-4bdcf601a84e",
     "showTitle": false,
     "title": ""
    }
   },
   "source": [
    "###Working with Spark SQL and Tables"
   ]
  },
  {
   "cell_type": "code",
   "execution_count": 0,
   "metadata": {
    "application/vnd.databricks.v1+cell": {
     "cellMetadata": {},
     "inputWidgets": {},
     "nuid": "2e3b909f-2416-4220-afa6-de4f46aaefc9",
     "showTitle": false,
     "title": ""
    }
   },
   "outputs": [],
   "source": [
    "%sql\n",
    "\n",
    "CREATE DATABASE IF NOT EXISTS MyDatabase"
   ]
  },
  {
   "cell_type": "code",
   "execution_count": 0,
   "metadata": {
    "application/vnd.databricks.v1+cell": {
     "cellMetadata": {},
     "inputWidgets": {},
     "nuid": "a8a8e355-7a6f-434a-94e9-70f7c99cd9fe",
     "showTitle": false,
     "title": ""
    }
   },
   "outputs": [],
   "source": [
    "# Store data as a Managed Table\n",
    "(\n",
    "  greenTaxiDF\n",
    "    .write\n",
    "    .mode(\"overwrite\")\n",
    "    .saveAsTable(\"MyDatabase.GreenTaxis\")\n",
    ")"
   ]
  },
  {
   "cell_type": "code",
   "execution_count": 0,
   "metadata": {
    "application/vnd.databricks.v1+cell": {
     "cellMetadata": {},
     "inputWidgets": {},
     "nuid": "5eb06937-3732-4b2c-8f05-c612997de9d5",
     "showTitle": false,
     "title": ""
    }
   },
   "outputs": [],
   "source": [
    "%sql\n",
    "\n",
    "SELECT *\n",
    "FROM MyDatabase.GreenTaxis\n",
    "LIMIT 10"
   ]
  },
  {
   "cell_type": "code",
   "execution_count": 0,
   "metadata": {
    "application/vnd.databricks.v1+cell": {
     "cellMetadata": {},
     "inputWidgets": {},
     "nuid": "ba01e46d-616b-4c38-9834-1bf390f11e90",
     "showTitle": false,
     "title": ""
    }
   },
   "outputs": [],
   "source": [
    "%sql\n",
    "\n",
    "DESCRIBE EXTENDED MyDatabase.GreenTaxis"
   ]
  },
  {
   "cell_type": "code",
   "execution_count": 0,
   "metadata": {
    "application/vnd.databricks.v1+cell": {
     "cellMetadata": {},
     "inputWidgets": {},
     "nuid": "d14cd21a-e818-4992-b31f-2a39b6a946af",
     "showTitle": false,
     "title": ""
    }
   },
   "outputs": [],
   "source": [
    "%sql\n",
    "\n",
    "DROP TABLE MyDatabase.GreenTaxis"
   ]
  },
  {
   "cell_type": "code",
   "execution_count": 0,
   "metadata": {
    "application/vnd.databricks.v1+cell": {
     "cellMetadata": {},
     "inputWidgets": {},
     "nuid": "b222cecf-683d-4f7e-a61f-c16f23b62e99",
     "showTitle": false,
     "title": ""
    }
   },
   "outputs": [],
   "source": [
    "# Store data as an Unmanaged Table\n",
    "(\n",
    "  greenTaxiDF\n",
    "    .write\n",
    "    .mode(\"overwrite\")\n",
    "  \n",
    "    .option(\"path\", outputFilePath + \"1.parquet\")\n",
    "    #.format(\"csv\")   /* Default format is parquet */\n",
    "  \n",
    "    .saveAsTable(\"MyDatabase.GreenTaxis\") \n",
    ")"
   ]
  },
  {
   "cell_type": "code",
   "execution_count": 0,
   "metadata": {
    "application/vnd.databricks.v1+cell": {
     "cellMetadata": {},
     "inputWidgets": {},
     "nuid": "78003e67-1cac-4fd8-abe4-79a3d50d062c",
     "showTitle": false,
     "title": ""
    }
   },
   "outputs": [],
   "source": [
    "%sql\n",
    "\n",
    "DESCRIBE EXTENDED MyDatabase.GreenTaxis"
   ]
  },
  {
   "cell_type": "code",
   "execution_count": 0,
   "metadata": {
    "application/vnd.databricks.v1+cell": {
     "cellMetadata": {},
     "inputWidgets": {},
     "nuid": "f50eb620-7523-4db1-86b9-a990ae2069b3",
     "showTitle": false,
     "title": ""
    }
   },
   "outputs": [],
   "source": [
    "%sql\n",
    "\n",
    "DROP TABLE MyDatabase.GreenTaxis"
   ]
  }
 ],
 "metadata": {
  "application/vnd.databricks.v1+notebook": {
   "dashboards": [],
   "language": "python",
   "notebookMetadata": {
    "mostRecentlyExecutedCommandWithImplicitDF": {
     "commandId": 700427447712350,
     "dataframes": [
      "_sqldf"
     ]
    },
    "pythonIndentUnit": 2
   },
   "notebookName": "Working with Spark - Share",
   "widgets": {}
  }
 },
 "nbformat": 4,
 "nbformat_minor": 0
}
